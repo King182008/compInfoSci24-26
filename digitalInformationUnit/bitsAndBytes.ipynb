{
 "cells": [
  {
   "cell_type": "markdown",
   "id": "0e1e608c",
   "metadata": {},
   "source": [
    "# Bits and Bytes"
   ]
  },
  {
   "cell_type": "markdown",
   "id": "f2ab990e",
   "metadata": {},
   "source": [
    "Bit - is the smallest unit of data. A bit is represented by either a 1 or a 0.\n",
    "\n",
    "* Differentiate between 10000 \"Mega bits\" or \"Mega bytes\"\n",
    "\n",
    "Byte - this is a string of 8 1's or 0's\n",
    "\n",
    "\n",
    "\n",
    "A --> 01000001\n",
    "Xaiden --> 01011000 01100001 01101001 01100100 01100101 01101110\n",
    "Computer Science --> 01000011 01101111 01101101 01110000 01110101 01110100 01100101 01110010 00100000 01010011 01100011 01101001 01100101 01101110 01100011 01100101\n",
    "\n",
    "255 - 00110010 00110101 00110101\n",
    "\n",
    "### Representing Color\n",
    "\n",
    "- Hexidecimal --> #33 99 ee\n",
    "- RGB --> (255, 145, 98) --> 00110010 00110101 00110101, 00110001 00110100 00110101, 00111001 00111000\n"
   ]
  },
  {
   "cell_type": "markdown",
   "id": "4e33d633",
   "metadata": {},
   "source": [
    "### Series of bits\n",
    "\n",
    "2 bits --> 4 different combinations: 00, 10, 01, 11\n",
    "3 bits --> 8 different combinations: 000, 001, 010, 100, 101, 110, 011, 111\n",
    "4 bits --> 16 different combinations: 0000, 0001, 0010, 0011, 0100, 0101, 0110, 0111, 1000, 1001, 1010, 1011, 1100, 1101, 1110, 1111\n",
    "5 bits --> 32 different combinations:\n",
    "6 bits --> 64 different combinations:\n",
    "7 bits --> 128 different combinations:\n",
    "8 bits --> 256 different combinations:\n",
    "9 bits --> 512 different combinations:\n",
    "10 bits --> 1024 different combinations:"
   ]
  },
  {
   "cell_type": "markdown",
   "id": "3d245614",
   "metadata": {},
   "source": [
    "### Bytes - is a combination of 8 bits"
   ]
  },
  {
   "cell_type": "markdown",
   "id": "d3fbd627",
   "metadata": {},
   "source": [
    "0000 0101\n",
    "\n"
   ]
  },
  {
   "cell_type": "markdown",
   "id": "151d78cb",
   "metadata": {},
   "source": [
    "## Limitations of storing numbers"
   ]
  },
  {
   "cell_type": "markdown",
   "id": "24a7a6bf",
   "metadata": {},
   "source": [
    "<b>Integer</b> - Non-fractional real number. Any number wiuthout a decimal.\n",
    "\n",
    "Integers can be negative or positive:\n",
    "120, 10 0, -20, 42\n",
    "\n",
    "#### Example of a computer using 4 bits to represent an integer\n",
    "\n",
    "0001\n",
    "\n",
    "<pre>+/-     4       2       1\n",
    "\n",
    "sign    2^2    2^1      2^0</pre>"
   ]
  },
  {
   "cell_type": "markdown",
   "id": "e96a5cc9",
   "metadata": {},
   "source": [
    "What would happen if we ran a program like this on the 4-bit computer, where the largest positive integer is 7?\n",
    "\n",
    "<b>Overflow</b> - is when a computer reaches it's storage limit capabilities, so processing any firther will create an overflow error"
   ]
  },
  {
   "cell_type": "code",
   "execution_count": 1,
   "id": "d1a24acc",
   "metadata": {},
   "outputs": [
    {
     "name": "stdout",
     "output_type": "stream",
     "text": [
      "8\n"
     ]
    }
   ],
   "source": [
    "x = 7 \n",
    "y = x + 1 # 8\n",
    "# on a 4 bit machine you would ger an error:\n",
    "# Overflow error or Number is too large\n",
    "\n",
    "# Could Truncate (chnage 8 to 7)\n",
    "# OR wrap the number around, (instead of 8, it would get stored as 1)\n",
    "\n",
    "print(y)"
   ]
  },
  {
   "cell_type": "markdown",
   "id": "d9253ac1",
   "metadata": {},
   "source": [
    "#### Moder computer systems use 64 bit architecture\n",
    "\n",
    "This means that modern computers can stor enumbers safely up to: \n",
    "\n",
    "## 9,007,199.254,740,991 OR 2^53 - 1"
   ]
  },
  {
   "cell_type": "markdown",
   "id": "0819fa98",
   "metadata": {},
   "source": [
    "## Floating-point representation"
   ]
  },
  {
   "cell_type": "markdown",
   "id": "118bcb04",
   "metadata": {},
   "source": [
    "Floating-point or Decimal numbers are tickier to represent in computer memory\n",
    "\n",
    "Numbers like :\n",
    "<pre>2/5     1.234       9.999999        3.141592653...</pre>"
   ]
  },
  {
   "cell_type": "markdown",
   "id": "3b506da4",
   "metadata": {},
   "source": [
    "Computers use <b>floating-point representation</b>  :\n",
    "\n",
    "<pre>a number is multiplied by a base thats raised to an exponent: \n",
    "300 = 2x 10^2\n",
    "\n",
    "Since we use BINARY:\n",
    "128 = 1 x 2^7\n",
    "256 = 1 x 2^8</pre>"
   ]
  },
  {
   "cell_type": "markdown",
   "id": "4f31b5e1",
   "metadata": {},
   "source": [
    "<pre>Numbers between powers of 2 :\n",
    "\n",
    "160 = 1.25 x 2^7\n",
    "192 = 1.50 x 2^7\n",
    "224 = 1.75 x 2^7</pre>"
   ]
  },
  {
   "cell_type": "markdown",
   "id": "09594bd1",
   "metadata": {},
   "source": [
    "### What about non-Integers\n",
    "\n",
    "<pre>\n",
    "0.50 = 1 x 2^-1\n",
    "0.25 = 1 x 2^-2\n",
    "</pre>\n",
    "\n",
    "### What about Floating-points\n",
    "\n",
    "<pre>\n",
    "0.750 = 1.5 x 2^-1\n",
    "0.375 = 1.5 x 2^-2\n",
    "</pre>\n",
    "\n",
    "<pre>0.375 = 0011111111011000000000000000000000000000000000000000000000000000\n",
    "1 bit --> sign\n",
    "11 bits --> exponent\n",
    "52 bits --> number in front of the decimal\n",
    "</pre>\n"
   ]
  },
  {
   "cell_type": "markdown",
   "id": "cadff023",
   "metadata": {},
   "source": [
    "## Roundoff errors"
   ]
  },
  {
   "cell_type": "markdown",
   "id": "34abba0d",
   "metadata": {},
   "source": [
    "All floating-point numbers cannot be fully represented using binary\n",
    "\n",
    "1/3 = 0.3333333333...\n",
    "\n",
    "1/3 = 1.3 x 2^-2 --> .01010101010101..."
   ]
  },
  {
   "cell_type": "code",
   "execution_count": 2,
   "id": "93568b5d",
   "metadata": {},
   "outputs": [
    {
     "name": "stdout",
     "output_type": "stream",
     "text": [
      "0.30000000000000004\n"
     ]
    }
   ],
   "source": [
    "result = 0.1 + 0.1 + 0.1\n",
    "print(result)"
   ]
  },
  {
   "cell_type": "markdown",
   "id": "86f51ed5",
   "metadata": {},
   "source": [
    "The more bits we can use, the more precise our numbers and calculations will be. Modern 64-bit systems offer a high enough precision for low-stakes calculations."
   ]
  },
  {
   "cell_type": "markdown",
   "id": "39b92f71",
   "metadata": {},
   "source": []
  }
 ],
 "metadata": {
  "kernelspec": {
   "display_name": "Python 3",
   "language": "python",
   "name": "python3"
  },
  "language_info": {
   "codemirror_mode": {
    "name": "ipython",
    "version": 3
   },
   "file_extension": ".py",
   "mimetype": "text/x-python",
   "name": "python",
   "nbconvert_exporter": "python",
   "pygments_lexer": "ipython3",
   "version": "3.12.1"
  }
 },
 "nbformat": 4,
 "nbformat_minor": 5
}
